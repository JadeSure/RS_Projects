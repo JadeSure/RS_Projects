{
 "cells": [
  {
   "cell_type": "code",
   "execution_count": 4,
   "metadata": {},
   "outputs": [
    {
     "data": {
      "image/png": "[encoded data removed]",
      "text/plain": [
       "<Figure size 432x288 with 1 Axes>"
      ]
     },
     "metadata": {},
     "output_type": "display_data"
    },
    {
     "name": "stdout",
     "output_type": "stream",
     "text": [
      "简化模型的PR值： {'A': 0.33333396911621094, 'B': 0.22222201029459634, 'C': 0.22222201029459634, 'D': 0.22222201029459634}\n",
      "随机模型的PR值： {'A': 0.3214290507775999, 'B': 0.22619031640746662, 'C': 0.22619031640746662, 'D': 0.22619031640746662}\n"
     ]
    }
   ],
   "source": [
    "# 使用networkX计算节点的pagerank\n",
    "import networkx as nx\n",
    "import matplotlib.pyplot as plt\n",
    "\n",
    "# 创建有向图\n",
    "G = nx.DiGraph()   \n",
    "# 设置有向图的边集合\n",
    "edges = [(\"A\", \"B\"), (\"A\", \"C\"), (\"A\", \"D\"), (\"B\", \"A\"), (\"B\", \"D\"), (\"C\", \"A\"), (\"D\", \"B\"), (\"D\", \"C\")]\n",
    "# 在有向图G中添加边集合\n",
    "for edge in edges:\n",
    "    G.add_edge(edge[0], edge[1])\n",
    "\n",
    "# 有向图可视化, spring_layout （中心放射状）\n",
    "# layout = nx.spring_layout(G)\n",
    "\n",
    "# 在一个圆环上均匀分布节点\n",
    "# layout = nx.circular_layout(G)\n",
    "\n",
    "#随机分布节点\n",
    "# layout = nx.random_layout(G)\n",
    "\n",
    "# 节点都在同心圆上\n",
    "layout = nx.shell_layout(G)\n",
    "nx.draw(G, pos=layout, with_labels=True, hold=False)\n",
    "plt.show()\n",
    "\n",
    "# 计算简化模型的PR值\n",
    "pr = nx.pagerank(G, alpha=1)\n",
    "print(\"简化模型的PR值：\", pr)\n",
    "\n",
    "# 计算随机模型的PR值\n",
    "# alpha为阻尼因子 0.8\n",
    "pr = nx.pagerank(G, alpha=0.8)\n",
    "print(\"随机模型的PR值：\", pr)"
   ]
  },
  {
   "cell_type": "code",
   "execution_count": null,
   "metadata": {},
   "outputs": [],
   "source": []
  }
 ],
 "metadata": {
  "kernelspec": {
   "display_name": "Python 3",
   "language": "python",
   "name": "python3"
  },
  "language_info": {
   "codemirror_mode": {
    "name": "ipython",
    "version": 3
   },
   "file_extension": ".py",
   "mimetype": "text/x-python",
   "name": "python",
   "nbconvert_exporter": "python",
   "pygments_lexer": "ipython3",
   "version": "3.7.0"
  }
 },
 "nbformat": 4,
 "nbformat_minor": 2
}
