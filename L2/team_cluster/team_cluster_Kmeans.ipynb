{
 "cells": [
  {
   "cell_type": "code",
   "execution_count": 5,
   "metadata": {},
   "outputs": [
    {
     "name": "stdout",
     "output_type": "stream",
     "text": [
      "        国家  2019国际排名  2018世界杯排名  2015亚洲杯排名\n",
      "0       中国        73         40          7\n",
      "1       日本        60         15          5\n",
      "2       韩国        61         19          2\n",
      "3       伊朗        34         18          6\n",
      "4       沙特        67         26         10\n",
      "5      伊拉克        91         40          4\n",
      "6      卡塔尔       101         40         13\n",
      "7      阿联酋        81         40          6\n",
      "8   乌兹别克斯坦        88         40          8\n",
      "9       泰国       122         40         17\n",
      "10      越南       102         50         17\n",
      "11      阿曼        87         50         12\n",
      "12      朝鲜       110         50         14\n",
      "13      印尼       164         50         17\n",
      "14      澳洲        40         30          1\n",
      "15     叙利亚        76         40         17\n",
      "16      约旦       118         50          9\n",
      "17     科威特       160         50         15\n"
     ]
    }
   ],
   "source": [
    "# coding: utf-8\n",
    "from sklearn.cluster import KMeans\n",
    "from sklearn import preprocessing\n",
    "import pandas as pd\n",
    "import numpy as np\n",
    "# loading data in encoding ='gbk'\n",
    "data = pd.read_csv('team_cluster_data.csv', encoding='gbk')\n",
    "train_x = data[[\"2019国际排名\",\"2018世界杯排名\",\"2015亚洲杯排名\"]]\n",
    "print(data)"
   ]
  },
  {
   "cell_type": "code",
   "execution_count": 2,
   "metadata": {},
   "outputs": [
    {
     "name": "stdout",
     "output_type": "stream",
     "text": [
      "        国家  2019国际排名  2018世界杯排名  2015亚洲杯排名  聚类结果\n",
      "0       中国        73         40          7     1\n",
      "1       日本        60         15          5     2\n",
      "2       韩国        61         19          2     2\n",
      "3       伊朗        34         18          6     2\n",
      "4       沙特        67         26         10     2\n",
      "5      伊拉克        91         40          4     1\n",
      "6      卡塔尔       101         40         13     0\n",
      "7      阿联酋        81         40          6     1\n",
      "8   乌兹别克斯坦        88         40          8     1\n",
      "9       泰国       122         40         17     0\n",
      "10      越南       102         50         17     0\n",
      "11      阿曼        87         50         12     0\n",
      "12      朝鲜       110         50         14     0\n",
      "13      印尼       164         50         17     0\n",
      "14      澳洲        40         30          1     2\n",
      "15     叙利亚        76         40         17     0\n",
      "16      约旦       118         50          9     1\n",
      "17     科威特       160         50         15     0\n"
     ]
    }
   ],
   "source": [
    "kmeans = KMeans(n_clusters=3)\n",
    "# normalize data to [0,1]\n",
    "min_max_scaler=preprocessing.MinMaxScaler()\n",
    "train_x=min_max_scaler.fit_transform(train_x)\n",
    "#print(train_x)\n",
    "# kmeans algorithm\n",
    "kmeans.fit(train_x)\n",
    "predict_y = kmeans.predict(train_x)\n",
    "\n",
    "# 合并聚类结果，插入到原数据中\n",
    "result = pd.concat((data,pd.DataFrame(predict_y)),axis=1)\n",
    "result.rename({0:u'聚类结果'},axis=1,inplace=True)\n",
    "print(result)\n",
    "# 将结果导出到CSV文件中\n",
    "#result.to_csv(\"team_cluster_result.csv\")"
   ]
  },
  {
   "cell_type": "code",
   "execution_count": null,
   "metadata": {},
   "outputs": [],
   "source": []
  }
 ],
 "metadata": {
  "kernelspec": {
   "display_name": "Python 3",
   "language": "python",
   "name": "python3"
  },
  "language_info": {
   "codemirror_mode": {
    "name": "ipython",
    "version": 3
   },
   "file_extension": ".py",
   "mimetype": "text/x-python",
   "name": "python",
   "nbconvert_exporter": "python",
   "pygments_lexer": "ipython3",
   "version": "3.7.4"
  }
 },
 "nbformat": 4,
 "nbformat_minor": 2
}
