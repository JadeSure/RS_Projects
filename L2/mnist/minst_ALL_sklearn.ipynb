{
 "cells": [
  {
   "cell_type": "code",
   "execution_count": 1,
   "metadata": {},
   "outputs": [],
   "source": [
    "# -*- coding: utf-8 -*-\n",
    "# using different kinds of algorithm to train model\n",
    "from sklearn.model_selection import train_test_split\n",
    "from sklearn import preprocessing\n",
    "from sklearn.metrics import accuracy_score\n",
    "from sklearn.datasets import load_digits\n",
    "from sklearn import svm #SVM\n",
    "from sklearn.linear_model import LogisticRegression #LR: logic regression\n",
    "from sklearn.tree import DecisionTreeClassifier #decision tree\n",
    "from sklearn.naive_bayes import GaussianNB, MultinomialNB, BernoulliNB # GaussianNB/MultinomialNB/BernoulliNB\n",
    "from sklearn.neighbors import KNeighborsClassifier #KNN\n",
    "from sklearn.ensemble import  AdaBoostClassifier #AdaBoost\n",
    "# from xgboost import XGBClassifier #XGBoost\n",
    "from sklearn.discriminant_analysis import LinearDiscriminantAnalysis  \n",
    "import matplotlib.pyplot as plt"
   ]
  },
  {
   "cell_type": "code",
   "execution_count": 2,
   "metadata": {},
   "outputs": [
    {
     "name": "stdout",
     "output_type": "stream",
     "text": [
      "(1797, 64)\n",
      "[[ 0.  0.  5. 13.  9.  1.  0.  0.]\n",
      " [ 0.  0. 13. 15. 10. 15.  5.  0.]\n",
      " [ 0.  3. 15.  2.  0. 11.  8.  0.]\n",
      " [ 0.  4. 12.  0.  0.  8.  8.  0.]\n",
      " [ 0.  5.  8.  0.  0.  9.  8.  0.]\n",
      " [ 0.  4. 11.  0.  1. 12.  7.  0.]\n",
      " [ 0.  2. 14.  5. 10. 12.  0.  0.]\n",
      " [ 0.  0.  6. 13. 10.  0.  0.  0.]]\n",
      "0\n"
     ]
    },
    {
     "data": {
      "image/png": "[encoded data removed]",
      "text/plain": [
       "<Figure size 432x288 with 1 Axes>"
      ]
     },
     "metadata": {
      "needs_background": "light"
     },
     "output_type": "display_data"
    },
    {
     "name": "stdout",
     "output_type": "stream",
     "text": [
      "1347\n",
      "64\n",
      "================\n",
      "86208\n",
      "LR准确率: 0.9600\n",
      "CART决策树准: 0.8533\n"
     ]
    },
    {
     "name": "stderr",
     "output_type": "stream",
     "text": [
      "/opt/anaconda3/lib/python3.7/site-packages/sklearn/discriminant_analysis.py:388: UserWarning: Variables are collinear.\n",
      "  warnings.warn(\"Variables are collinear.\")\n"
     ]
    },
    {
     "name": "stdout",
     "output_type": "stream",
     "text": [
      "LDA: 0.9378\n",
      "Bayies: 0.8311\n",
      "SVM: 0.9867\n",
      "KNN: 0.9756\n",
      "AdaBoost: 0.9667\n"
     ]
    }
   ],
   "source": [
    "# load data\n",
    "digits = load_digits()\n",
    "data = digits.data\n",
    "# check data\n",
    "print(data.shape)\n",
    "# check the first image\n",
    "print(digits.images[0])\n",
    "# the target of the first image\n",
    "print(digits.target[0])\n",
    "\n",
    "# show the first image\n",
    "# change the color for the image\n",
    "plt.autumn()\n",
    "\n",
    "# put image which is waiting shown\n",
    "plt.imshow(digits.images[0])\n",
    "plt.show()\n",
    "\n",
    "# splite date with 25% for testing, 75% for training\n",
    "train_x, test_x, train_y, test_y = train_test_split(data, digits.target, test_size=0.25, random_state=33)\n",
    "# useless\n",
    "# print(train_x.max())\n",
    "\n",
    "# print((train_x>1).sum())\n",
    "\n",
    "print(train_x.shape[0])\n",
    "print(train_x.shape[1])\n",
    "print(\"================\")\n",
    "print(train_x.shape[0]*train_x.shape[1])\n",
    "# Z-Score\n",
    "ss = preprocessing.StandardScaler()\n",
    "train_ss_x = ss.fit_transform(train_x)\n",
    "# ?\n",
    "test_ss_x = ss.transform(test_x)\n",
    "\n",
    "# LR classifier\n",
    "lr = LogisticRegression(solver='liblinear', multi_class='auto') #数据集比较小，使用liblinear，数据集大使用 sag或者saga\n",
    "lr.fit(train_ss_x, train_y)\n",
    "predict_y=lr.predict(test_ss_x)\n",
    "print('LR准确率: %0.4lf' % accuracy_score(predict_y, test_y))\n",
    "\n",
    "# CART, decision tree classifier\n",
    "model = DecisionTreeClassifier()\n",
    "model.fit(train_ss_x,train_y)\n",
    "predict_y=model.predict(test_ss_x)\n",
    "print('CART决策树准: %0.4lf' %accuracy_score(predict_y,test_y))\n",
    "\n",
    "# LDA classifier\n",
    "model = LinearDiscriminantAnalysis(n_components=2)\n",
    "model.fit(train_ss_x,train_y)\n",
    "predict_y=model.predict(test_ss_x)\n",
    "print('LDA: %0.4lf' %accuracy_score(predict_y,test_y))\n",
    "\n",
    "# bayies classifier\n",
    "model = GaussianNB()\n",
    "model.fit(train_x,train_y)\n",
    "predict_y=model.predict(test_x)\n",
    "print('Bayies: %0.4lf' %accuracy_score(predict_y,test_y))\n",
    "\n",
    "# SVM classifier\n",
    "model = svm.SVC(kernel='rbf', C=1.0, gamma='auto')\n",
    "model.fit(train_ss_x,train_y)\n",
    "predict_y=model.predict(test_ss_x)\n",
    "print('SVM: %0.4lf' %accuracy_score(predict_y,test_y))\n",
    "\n",
    "# KNN classifier\n",
    "model = KNeighborsClassifier()\n",
    "model.fit(train_ss_x,train_y)\n",
    "predict_y=model.predict(test_ss_x)\n",
    "print('KNN: %0.4lf' %accuracy_score(predict_y,test_y))\n",
    "\n",
    "# AdaBoost classifier\n",
    "# weak classifier\n",
    "dt_stump = DecisionTreeClassifier(max_depth=5,min_samples_leaf=1)\n",
    "dt_stump.fit(train_ss_x, train_y)\n",
    "#dt_stump_err = 1.0-dt_stump.score(test_x, test_y)\n",
    "# set AdaBoost echo times\n",
    "n_estimators=500\n",
    "model = AdaBoostClassifier(base_estimator=dt_stump,n_estimators=n_estimators)\n",
    "model.fit(train_ss_x,train_y)\n",
    "predict_y=model.predict(test_ss_x)\n",
    "print('AdaBoost: %0.4lf' %accuracy_score(predict_y,test_y))\n",
    "\n",
    "# XGBoost classifier\n",
    "# model = XGBClassifier()\n",
    "# model.fit(train_ss_x,train_y)\n",
    "# predict_y=model.predict(test_ss_x)\n",
    "# print('XGBoost: %0.4lf' %accuracy_score(predict_y,test_y))\n",
    "\n"
   ]
  },
  {
   "cell_type": "code",
   "execution_count": null,
   "metadata": {},
   "outputs": [],
   "source": []
  }
 ],
 "metadata": {
  "kernelspec": {
   "display_name": "Python 3",
   "language": "python",
   "name": "python3"
  },
  "language_info": {
   "codemirror_mode": {
    "name": "ipython",
    "version": 3
   },
   "file_extension": ".py",
   "mimetype": "text/x-python",
   "name": "python",
   "nbconvert_exporter": "python",
   "pygments_lexer": "ipython3",
   "version": "3.7.4"
  }
 },
 "nbformat": 4,
 "nbformat_minor": 2
}
