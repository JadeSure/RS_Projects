{
 "cells": [
  {
   "cell_type": "code",
   "execution_count": 31,
   "metadata": {},
   "outputs": [
    {
     "name": "stdout",
     "output_type": "stream",
     "text": [
      "decision tree accurrate rate is: 0.8519\n"
     ]
    }
   ],
   "source": [
    "from sklearn.model_selection import train_test_split\n",
    "from sklearn import preprocessing\n",
    "from sklearn.metrics import accuracy_score\n",
    "from sklearn.datasets import load_digits\n",
    "from sklearn import tree\n",
    "from sklearn import datasets\n",
    "import matplotlib.pyplot as plt\n",
    "\n",
    "\n",
    "# load digits data from sklearn, name it to x and y in target\n",
    "digits = datasets.load_digits()\n",
    "digit_X = digits.data\n",
    "digit_y = digits.target\n",
    "\n",
    "# normalization\n",
    "# digit_X = preprocessing.scale(digit_X)\n",
    "\n",
    "# ss = preprocessing.StandardScaler()\n",
    "# digit_X = ss.fit_transform(digit_X)\n",
    "\n",
    "# 3 vs 7 for testing and training\n",
    "train_x, test_x, train_y, test_y = train_test_split(digit_X, digit_y, test_size = 0.3, random_state = 1)\n",
    "clf = tree.DecisionTreeClassifier()\n",
    "clf.fit(train_x, train_y)\n",
    "prediction = clf.predict(test_x)\n",
    "print(\"decision tree accurrate rate is: %0.4lf\" %accuracy_score(prediction, test_y))"
   ]
  }
 ],
 "metadata": {
  "kernelspec": {
   "display_name": "Python 2",
   "language": "python",
   "name": "python2"
  },
  "language_info": {
   "codemirror_mode": {
    "name": "ipython",
    "version": 2
   },
   "file_extension": ".py",
   "mimetype": "text/x-python",
   "name": "python",
   "nbconvert_exporter": "python",
   "pygments_lexer": "ipython2",
   "version": "2.7.15"
  }
 },
 "nbformat": 4,
 "nbformat_minor": 2
}
