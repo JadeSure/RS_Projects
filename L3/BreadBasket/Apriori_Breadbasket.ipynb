{
 "cells": [
  {
   "cell_type": "code",
   "execution_count": 6,
   "metadata": {},
   "outputs": [
    {
     "name": "stdout",
     "output_type": "stream",
     "text": [
      "----------------------------------------------------------------------------------------------------\n"
     ]
    },
    {
     "ename": "ModuleNotFoundError",
     "evalue": "No module named 'mlxtend'",
     "output_type": "error",
     "traceback": [
      "\u001b[0;31m---------------------------------------------------------------------------\u001b[0m",
      "\u001b[0;31mModuleNotFoundError\u001b[0m                       Traceback (most recent call last)",
      "\u001b[0;32m<ipython-input-6-fcad6caf1a0d>\u001b[0m in \u001b[0;36m<module>\u001b[0;34m\u001b[0m\n\u001b[1;32m     60\u001b[0m \u001b[0;31m#rule1()\u001b[0m\u001b[0;34m\u001b[0m\u001b[0;34m\u001b[0m\u001b[0;34m\u001b[0m\u001b[0m\n\u001b[1;32m     61\u001b[0m \u001b[0mprint\u001b[0m\u001b[0;34m(\u001b[0m\u001b[0;34m'-'\u001b[0m\u001b[0;34m*\u001b[0m\u001b[0;36m100\u001b[0m\u001b[0;34m)\u001b[0m\u001b[0;34m\u001b[0m\u001b[0;34m\u001b[0m\u001b[0m\n\u001b[0;32m---> 62\u001b[0;31m \u001b[0mrule2\u001b[0m\u001b[0;34m(\u001b[0m\u001b[0;34m)\u001b[0m\u001b[0;34m\u001b[0m\u001b[0;34m\u001b[0m\u001b[0m\n\u001b[0m\u001b[1;32m     63\u001b[0m \u001b[0;34m\u001b[0m\u001b[0m\n\u001b[1;32m     64\u001b[0m \u001b[0;34m\u001b[0m\u001b[0m\n",
      "\u001b[0;32m<ipython-input-6-fcad6caf1a0d>\u001b[0m in \u001b[0;36mrule2\u001b[0;34m()\u001b[0m\n\u001b[1;32m     44\u001b[0m \u001b[0;31m# 采用mlxtend.frequent_patterns工具包\u001b[0m\u001b[0;34m\u001b[0m\u001b[0;34m\u001b[0m\u001b[0;34m\u001b[0m\u001b[0m\n\u001b[1;32m     45\u001b[0m \u001b[0;32mdef\u001b[0m \u001b[0mrule2\u001b[0m\u001b[0;34m(\u001b[0m\u001b[0;34m)\u001b[0m\u001b[0;34m:\u001b[0m\u001b[0;34m\u001b[0m\u001b[0;34m\u001b[0m\u001b[0m\n\u001b[0;32m---> 46\u001b[0;31m         \u001b[0;32mfrom\u001b[0m \u001b[0mmlxtend\u001b[0m\u001b[0;34m.\u001b[0m\u001b[0mfrequent_patterns\u001b[0m \u001b[0;32mimport\u001b[0m \u001b[0mapriori\u001b[0m\u001b[0;34m\u001b[0m\u001b[0;34m\u001b[0m\u001b[0m\n\u001b[0m\u001b[1;32m     47\u001b[0m         \u001b[0;32mfrom\u001b[0m \u001b[0mmlxtend\u001b[0m\u001b[0;34m.\u001b[0m\u001b[0mfrequent_patterns\u001b[0m \u001b[0;32mimport\u001b[0m \u001b[0massociation_rules\u001b[0m\u001b[0;34m\u001b[0m\u001b[0;34m\u001b[0m\u001b[0m\n\u001b[1;32m     48\u001b[0m         \u001b[0mpd\u001b[0m\u001b[0;34m.\u001b[0m\u001b[0moptions\u001b[0m\u001b[0;34m.\u001b[0m\u001b[0mdisplay\u001b[0m\u001b[0;34m.\u001b[0m\u001b[0mmax_columns\u001b[0m\u001b[0;34m=\u001b[0m\u001b[0;36m100\u001b[0m\u001b[0;34m\u001b[0m\u001b[0;34m\u001b[0m\u001b[0m\n",
      "\u001b[0;31mModuleNotFoundError\u001b[0m: No module named 'mlxtend'"
     ]
    }
   ],
   "source": [
    "import pandas as pd\n",
    "import time\n",
    "\n",
    "# 数据加载\n",
    "data = pd.read_csv('./BreadBasket_DMS.csv')\n",
    "# 统一小写\n",
    "data['Item'] = data['Item'].str.lower()\n",
    "# 去掉none项\n",
    "data = data.drop(data[data.Item == 'none'].index)\n",
    "\n",
    "# 采用efficient_apriori工具包\n",
    "def rule1():\n",
    "    from efficient_apriori import apriori\n",
    "    start = time.time()\n",
    "    # 得到一维数组orders_series，并且将Transaction作为index, value为Item取值\n",
    "    orders_series = data.set_index('Transaction')['Item']\n",
    "    # 将数据集进行格式转换\n",
    "    # transaction为订单数组\n",
    "    transactions = []\n",
    "    temp_index = 0\n",
    "    for i, v in orders_series.items():\n",
    "        if i != temp_index:\n",
    "            temp_set = set()\n",
    "            temp_index = i\n",
    "            temp_set.add(v)\n",
    "            transactions.append(temp_set)\n",
    "        else:\n",
    "            temp_set.add(v)\n",
    "\n",
    "    # 挖掘频繁项集和频繁规则\n",
    "    # 去尝试min_support & min_confidence\n",
    "    itemsets, rules = apriori(transactions, min_support=0.02,  min_confidence=0.5)\n",
    "    print('频繁项集：', itemsets)\n",
    "    print('关联规则：', rules)\n",
    "    end = time.time()\n",
    "    print(\"用时：\", end-start)\n",
    "\n",
    "\n",
    "def encode_units(x):\n",
    "    if x <= 0:\n",
    "        return 0\n",
    "    if x >= 1:\n",
    "        return 1\n",
    "# 采用mlxtend.frequent_patterns工具包\n",
    "def rule2():\n",
    "\tfrom mlxtend.frequent_patterns import apriori\n",
    "\tfrom mlxtend.frequent_patterns import association_rules\n",
    "\tpd.options.display.max_columns=100\n",
    "\tstart = time.time()\n",
    "\thot_encoded_df=data.groupby(['Transaction','Item'])['Item'].count().unstack().reset_index().fillna(0).set_index('Transaction')\n",
    "\thot_encoded_df = hot_encoded_df.applymap(encode_units)\n",
    "     # set support\n",
    "\tfrequent_itemsets = apriori(hot_encoded_df, min_support=0.02, use_colnames=True)\n",
    "    # set lifts\n",
    "\trules = association_rules(frequent_itemsets, metric=\"lift\", min_threshold=0.5)\n",
    "    \n",
    "\tprint(\"频繁项集：\", frequent_itemsets)\n",
    "\tprint(\"关联规则：\", rules[ (rules['lift'] >= 1) & (rules['confidence'] >= 0.5) ])\n",
    "\t#print(rules['confidence'])\n",
    "\tend = time.time()\n",
    "\tprint(\"用时：\", end-start)\n",
    "\n",
    "rule1()\n",
    "print('-'*100)\n",
    "rule2()\n",
    "\n",
    "\n"
   ]
  },
  {
   "cell_type": "code",
   "execution_count": 5,
   "metadata": {},
   "outputs": [
    {
     "name": "stdout",
     "output_type": "stream",
     "text": [
      "Transaction\n",
      "2        scandinavian\n",
      "2        scandinavian\n",
      "3       hot chocolate\n",
      "3                 jam\n",
      "3             cookies\n",
      "            ...      \n",
      "9682           coffee\n",
      "9682              tea\n",
      "9683           coffee\n",
      "9683           pastry\n",
      "9684        smoothies\n",
      "Name: Item, Length: 20506, dtype: object\n"
     ]
    }
   ],
   "source": [
    "import pandas as pd\n",
    "import time\n",
    "\n",
    "# 数据加载\n",
    "data = pd.read_csv('./BreadBasket_DMS.csv')\n",
    "# 统一小写\n",
    "data['Item'] = data['Item'].str.lower()\n",
    "# 去掉none项\n",
    "data = data.drop(data[data.Item == 'none'].index)\n",
    "orders_series = data.set_index('Transaction')['Item']\n",
    "print(orders_series)"
   ]
  },
  {
   "cell_type": "code",
   "execution_count": null,
   "metadata": {},
   "outputs": [],
   "source": []
  }
 ],
 "metadata": {
  "kernelspec": {
   "display_name": "Python 3",
   "language": "python",
   "name": "python3"
  },
  "language_info": {
   "codemirror_mode": {
    "name": "ipython",
    "version": 3
   },
   "file_extension": ".py",
   "mimetype": "text/x-python",
   "name": "python",
   "nbconvert_exporter": "python",
   "pygments_lexer": "ipython3",
   "version": "3.7.4"
  }
 },
 "nbformat": 4,
 "nbformat_minor": 2
}
