{
 "cells": [
  {
   "cell_type": "code",
   "execution_count": 1,
   "metadata": {},
   "outputs": [],
   "source": [
    "'''\n",
    "备注：\n",
    "使用算法：baseline算法  \n",
    "数据集切分 ： 先加载全部数据，然后选取 movie_id能被n整除且 user_id能被m整除的数据作为训练集\n",
    "m=4,n=4时 大约600W条评分数据   probe  RMSE=0.944\n",
    "m=3,n=3时 大约1100W条评分数据   probe  RMSE=0.964\n",
    "\n",
    "'''\n",
    "from surprise import Dataset\n",
    "from surprise import Reader\n",
    "from surprise import BaselineOnly\n",
    "from surprise import accuracy\n",
    "from surprise.model_selection import KFold\n",
    "import pandas as pd\n",
    "import numpy as np\n"
   ]
  },
  {
   "cell_type": "code",
   "execution_count": 2,
   "metadata": {},
   "outputs": [],
   "source": [
    "# 处理训练集的函数\n",
    "def data_cleaning(data):\n",
    "    data['movie_id']=data[0].map(lambda x:int(x[:-1]) if ':' in x else np.NaN)\n",
    "    data=data.fillna(method='ffill')\n",
    "    data=data[data[0].map(lambda x: ':' not in x)]\n",
    "    data['user_id']=data[0].map(lambda x:x.split(',')[0]).astype(np.int)\n",
    "    data['rating']=data[0].map(lambda x:x.split(',')[1]).astype(np.float)\n",
    "    data=data.drop([data.columns[0]],axis=1)\n",
    "    #data=data.set_index('user_id')\n",
    "\n",
    "    return data"
   ]
  },
  {
   "cell_type": "code",
   "execution_count": 3,
   "metadata": {},
   "outputs": [],
   "source": [
    "# 处理probe数据的函数\n",
    "def probe_cleaning(data):\n",
    "    data['movie_id']=data[0].map(lambda x:int(x[:-1]) if ':' in x else np.NaN)\n",
    "    data=data.fillna(method='ffill')\n",
    "    data=data[data[0].map(lambda x: ':' not in x)]\n",
    "    data.columns=['user_id','movie_id']\n",
    "    data['user_id']=data['user_id'].astype(np.int)\n",
    "    data=data[['movie_id','user_id']]\n",
    "    \n",
    "    #data=data.set_index('user_id')\n",
    "    return data"
   ]
  },
  {
   "cell_type": "code",
   "execution_count": 4,
   "metadata": {},
   "outputs": [],
   "source": [
    "# 加载训练集\n",
    "data1=pd.read_csv('./combined_data_1.txt',sep=' ',header=None)\n",
    "data1=data_cleaning(data1)\n",
    "data2=pd.read_csv('./combined_data_2.txt',sep=' ',header=None)\n",
    "data2=data_cleaning(data2)\n",
    "data3=pd.read_csv('./combined_data_3.txt',sep=' ',header=None)\n",
    "data3=data_cleaning(data3)\n",
    "data4=pd.read_csv('./combined_data_4.txt',sep=' ',header=None)\n",
    "data4=data_cleaning(data4)"
   ]
  },
  {
   "cell_type": "code",
   "execution_count": 5,
   "metadata": {},
   "outputs": [],
   "source": [
    "data_all=pd.concat([data1,data2,data3,data4],ignore_index=True)"
   ]
  },
  {
   "cell_type": "code",
   "execution_count": 13,
   "metadata": {},
   "outputs": [],
   "source": [
    "#  对数据集进行切分，然后选取 movie_id能被n整除且 user_id能被m整除的数据作为训练集\n",
    "# n=3 m=3  选取movie_id  user_id能被3整除的数据作为训练集，从1亿条数据中选出大约1100w条\n",
    "n=3\n",
    "m=3\n",
    "data_c=data_all[data_all['movie_id']%n==0]"
   ]
  },
  {
   "cell_type": "code",
   "execution_count": 19,
   "metadata": {},
   "outputs": [
    {
     "data": {
      "text/html": [
       "<div>\n",
       "<style scoped>\n",
       "    .dataframe tbody tr th:only-of-type {\n",
       "        vertical-align: middle;\n",
       "    }\n",
       "\n",
       "    .dataframe tbody tr th {\n",
       "        vertical-align: top;\n",
       "    }\n",
       "\n",
       "    .dataframe thead th {\n",
       "        text-align: right;\n",
       "    }\n",
       "</style>\n",
       "<table border=\"1\" class=\"dataframe\">\n",
       "  <thead>\n",
       "    <tr style=\"text-align: right;\">\n",
       "      <th></th>\n",
       "      <th>movie_id</th>\n",
       "      <th>user_id</th>\n",
       "      <th>rating</th>\n",
       "    </tr>\n",
       "  </thead>\n",
       "  <tbody>\n",
       "    <tr>\n",
       "      <td>694</td>\n",
       "      <td>3.0</td>\n",
       "      <td>1331154</td>\n",
       "      <td>4.0</td>\n",
       "    </tr>\n",
       "    <tr>\n",
       "      <td>695</td>\n",
       "      <td>3.0</td>\n",
       "      <td>2632461</td>\n",
       "      <td>3.0</td>\n",
       "    </tr>\n",
       "    <tr>\n",
       "      <td>696</td>\n",
       "      <td>3.0</td>\n",
       "      <td>44937</td>\n",
       "      <td>5.0</td>\n",
       "    </tr>\n",
       "    <tr>\n",
       "      <td>698</td>\n",
       "      <td>3.0</td>\n",
       "      <td>439011</td>\n",
       "      <td>1.0</td>\n",
       "    </tr>\n",
       "    <tr>\n",
       "      <td>700</td>\n",
       "      <td>3.0</td>\n",
       "      <td>1644750</td>\n",
       "      <td>3.0</td>\n",
       "    </tr>\n",
       "    <tr>\n",
       "      <td>...</td>\n",
       "      <td>...</td>\n",
       "      <td>...</td>\n",
       "      <td>...</td>\n",
       "    </tr>\n",
       "    <tr>\n",
       "      <td>100479568</td>\n",
       "      <td>17769.0</td>\n",
       "      <td>1699236</td>\n",
       "      <td>2.0</td>\n",
       "    </tr>\n",
       "    <tr>\n",
       "      <td>100479574</td>\n",
       "      <td>17769.0</td>\n",
       "      <td>359157</td>\n",
       "      <td>3.0</td>\n",
       "    </tr>\n",
       "    <tr>\n",
       "      <td>100479576</td>\n",
       "      <td>17769.0</td>\n",
       "      <td>1642092</td>\n",
       "      <td>1.0</td>\n",
       "    </tr>\n",
       "    <tr>\n",
       "      <td>100479582</td>\n",
       "      <td>17769.0</td>\n",
       "      <td>77664</td>\n",
       "      <td>2.0</td>\n",
       "    </tr>\n",
       "    <tr>\n",
       "      <td>100479583</td>\n",
       "      <td>17769.0</td>\n",
       "      <td>1922916</td>\n",
       "      <td>3.0</td>\n",
       "    </tr>\n",
       "  </tbody>\n",
       "</table>\n",
       "<p>11224324 rows × 3 columns</p>\n",
       "</div>"
      ],
      "text/plain": [
       "           movie_id  user_id  rating\n",
       "694             3.0  1331154     4.0\n",
       "695             3.0  2632461     3.0\n",
       "696             3.0    44937     5.0\n",
       "698             3.0   439011     1.0\n",
       "700             3.0  1644750     3.0\n",
       "...             ...      ...     ...\n",
       "100479568   17769.0  1699236     2.0\n",
       "100479574   17769.0   359157     3.0\n",
       "100479576   17769.0  1642092     1.0\n",
       "100479582   17769.0    77664     2.0\n",
       "100479583   17769.0  1922916     3.0\n",
       "\n",
       "[11224324 rows x 3 columns]"
      ]
     },
     "execution_count": 19,
     "metadata": {},
     "output_type": "execute_result"
    }
   ],
   "source": [
    "data_c=data_c[data_c['user_id']%m==0]\n",
    "data_c"
   ]
  },
  {
   "cell_type": "code",
   "execution_count": 8,
   "metadata": {},
   "outputs": [],
   "source": [
    "reader = Reader(line_format='item user rating', sep=',', skip_lines=1)\n",
    "# load_from_df  直接从DataFrame 调用数据\n",
    "data = Dataset.load_from_df(data_c[['movie_id', 'user_id', 'rating']], reader=reader)"
   ]
  },
  {
   "cell_type": "code",
   "execution_count": 9,
   "metadata": {},
   "outputs": [],
   "source": [
    "train_set = data.build_full_trainset()\n",
    "# ALS优化\n",
    "bsl_options = {'method': 'als','n_epochs': 5,'reg_u': 12,'reg_i': 5}\n",
    "algo = BaselineOnly(bsl_options=bsl_options)\n",
    "kf = KFold(n_splits=3)\n"
   ]
  },
  {
   "cell_type": "code",
   "execution_count": 10,
   "metadata": {},
   "outputs": [
    {
     "name": "stdout",
     "output_type": "stream",
     "text": [
      "Estimating biases using als...\n",
      "RMSE: 0.9285\n",
      "Estimating biases using als...\n",
      "RMSE: 0.9283\n",
      "Estimating biases using als...\n",
      "RMSE: 0.9283\n"
     ]
    }
   ],
   "source": [
    "for trainset, testset in kf.split(data):\n",
    "    # 训练并预测\n",
    "    algo.fit(trainset)\n",
    "    predictions = algo.test(testset)\n",
    "    # 计算RMSE\n",
    "    accuracy.rmse(predictions, verbose=True)"
   ]
  },
  {
   "cell_type": "code",
   "execution_count": 11,
   "metadata": {},
   "outputs": [],
   "source": [
    "# 读取并处理probe数据格式\n",
    "probe=pd.read_csv('./probe.txt',sep=' ',header=None)\n",
    "probe_data=probe_cleaning(probe)"
   ]
  },
  {
   "cell_type": "code",
   "execution_count": 14,
   "metadata": {},
   "outputs": [
    {
     "data": {
      "text/html": [
       "<div>\n",
       "<style scoped>\n",
       "    .dataframe tbody tr th:only-of-type {\n",
       "        vertical-align: middle;\n",
       "    }\n",
       "\n",
       "    .dataframe tbody tr th {\n",
       "        vertical-align: top;\n",
       "    }\n",
       "\n",
       "    .dataframe thead th {\n",
       "        text-align: right;\n",
       "    }\n",
       "</style>\n",
       "<table border=\"1\" class=\"dataframe\">\n",
       "  <thead>\n",
       "    <tr style=\"text-align: right;\">\n",
       "      <th></th>\n",
       "      <th>movie_id</th>\n",
       "      <th>user_id</th>\n",
       "    </tr>\n",
       "  </thead>\n",
       "  <tbody>\n",
       "    <tr>\n",
       "      <td>739896</td>\n",
       "      <td>3.0</td>\n",
       "      <td>2297310</td>\n",
       "    </tr>\n",
       "    <tr>\n",
       "      <td>739895</td>\n",
       "      <td>3.0</td>\n",
       "      <td>2251677</td>\n",
       "    </tr>\n",
       "    <tr>\n",
       "      <td>739900</td>\n",
       "      <td>3.0</td>\n",
       "      <td>177678</td>\n",
       "    </tr>\n",
       "    <tr>\n",
       "      <td>739879</td>\n",
       "      <td>3.0</td>\n",
       "      <td>475143</td>\n",
       "    </tr>\n",
       "    <tr>\n",
       "      <td>739888</td>\n",
       "      <td>3.0</td>\n",
       "      <td>349821</td>\n",
       "    </tr>\n",
       "    <tr>\n",
       "      <td>...</td>\n",
       "      <td>...</td>\n",
       "      <td>...</td>\n",
       "    </tr>\n",
       "    <tr>\n",
       "      <td>564537</td>\n",
       "      <td>17769.0</td>\n",
       "      <td>2586954</td>\n",
       "    </tr>\n",
       "    <tr>\n",
       "      <td>564534</td>\n",
       "      <td>17769.0</td>\n",
       "      <td>720417</td>\n",
       "    </tr>\n",
       "    <tr>\n",
       "      <td>564526</td>\n",
       "      <td>17769.0</td>\n",
       "      <td>2002893</td>\n",
       "    </tr>\n",
       "    <tr>\n",
       "      <td>564556</td>\n",
       "      <td>17769.0</td>\n",
       "      <td>2270286</td>\n",
       "    </tr>\n",
       "    <tr>\n",
       "      <td>564606</td>\n",
       "      <td>17769.0</td>\n",
       "      <td>898449</td>\n",
       "    </tr>\n",
       "  </tbody>\n",
       "</table>\n",
       "<p>152482 rows × 2 columns</p>\n",
       "</div>"
      ],
      "text/plain": [
       "        movie_id  user_id\n",
       "739896       3.0  2297310\n",
       "739895       3.0  2251677\n",
       "739900       3.0   177678\n",
       "739879       3.0   475143\n",
       "739888       3.0   349821\n",
       "...          ...      ...\n",
       "564537   17769.0  2586954\n",
       "564534   17769.0   720417\n",
       "564526   17769.0  2002893\n",
       "564556   17769.0  2270286\n",
       "564606   17769.0   898449\n",
       "\n",
       "[152482 rows x 2 columns]"
      ]
     },
     "execution_count": 14,
     "metadata": {},
     "output_type": "execute_result"
    }
   ],
   "source": [
    "probe_data_c=probe_data[probe_data['movie_id']%n==0]\n",
    "probe_data_c=probe_data_c[probe_data_c['user_id']%m==0]\n",
    "probe_data_c.sort_values(by='movie_id')"
   ]
  },
  {
   "cell_type": "code",
   "execution_count": 20,
   "metadata": {},
   "outputs": [],
   "source": [
    "# 用accuracy.rmse(predictions, verbose=True) 计算RMSE 所以先把数据格式处理成testset相同的格式\n",
    "\n",
    "# 把probe补全 成测试集\n",
    "p_data=pd.merge(probe_data_c,data_c)"
   ]
  },
  {
   "cell_type": "code",
   "execution_count": 21,
   "metadata": {},
   "outputs": [],
   "source": [
    "# 处理成和 testset 一样的格式\n",
    "probe_test=[]\n",
    "\n",
    "for i in p_data.values:\n",
    "    tup=(i[0],i[1],i[2])\n",
    "    probe_test.append(tup)\n"
   ]
  },
  {
   "cell_type": "code",
   "execution_count": 22,
   "metadata": {},
   "outputs": [],
   "source": [
    "probe_predictions = algo.test(probe_test)"
   ]
  },
  {
   "cell_type": "code",
   "execution_count": 23,
   "metadata": {},
   "outputs": [
    {
     "name": "stdout",
     "output_type": "stream",
     "text": [
      "RMSE: 0.9645\n"
     ]
    },
    {
     "data": {
      "text/plain": [
       "0.9645267124259107"
      ]
     },
     "execution_count": 23,
     "metadata": {},
     "output_type": "execute_result"
    }
   ],
   "source": [
    "accuracy.rmse(probe_predictions, verbose=True)   # 计算RMSE "
   ]
  },
  {
   "cell_type": "code",
   "execution_count": 45,
   "metadata": {},
   "outputs": [],
   "source": []
  }
 ],
 "metadata": {
  "kernelspec": {
   "display_name": "Python 3",
   "language": "python",
   "name": "python3"
  },
  "language_info": {
   "codemirror_mode": {
    "name": "ipython",
    "version": 3
   },
   "file_extension": ".py",
   "mimetype": "text/x-python",
   "name": "python",
   "nbconvert_exporter": "python",
   "pygments_lexer": "ipython3",
   "version": "3.7.4"
  }
 },
 "nbformat": 4,
 "nbformat_minor": 2
}
